{
 "cells": [
  {
   "cell_type": "code",
   "execution_count": 2,
   "metadata": {},
   "outputs": [
    {
     "name": "stdout",
     "output_type": "stream",
     "text": [
      "WARNING:tensorflow:Deprecation warnings have been disabled. Set TF_ENABLE_DEPRECATION_WARNINGS=1 to re-enable them.\n",
      "Setting up TensorFlow plugin \"fused_bias_act.cu\": Loading... Done.\n",
      "Setting up TensorFlow plugin \"upfirdn_2d.cu\": Loading... Done.\n"
     ]
    },
    {
     "name": "stderr",
     "output_type": "stream",
     "text": [
      "\r",
      "t:   0%|          | 0/1200 [00:00<?, ?it/s, now=None]"
     ]
    },
    {
     "name": "stdout",
     "output_type": "stream",
     "text": [
      "Moviepy - Building video out/random_grid_323_0.9.mp4.\n",
      "Moviepy - Writing video out/random_grid_323_0.9.mp4\n",
      "\n"
     ]
    },
    {
     "name": "stderr",
     "output_type": "stream",
     "text": [
      "                                                                \r"
     ]
    },
    {
     "name": "stdout",
     "output_type": "stream",
     "text": [
      "Moviepy - Done !\n",
      "Moviepy - video ready out/random_grid_323_0.9.mp4\n"
     ]
    },
    {
     "name": "stderr",
     "output_type": "stream",
     "text": [
      "\r",
      "t:   0%|          | 0/1200 [00:00<?, ?it/s, now=None]"
     ]
    },
    {
     "name": "stdout",
     "output_type": "stream",
     "text": [
      "Moviepy - Building video out/random_grid_53_0.9.mp4.\n",
      "Moviepy - Writing video out/random_grid_53_0.9.mp4\n",
      "\n"
     ]
    },
    {
     "name": "stderr",
     "output_type": "stream",
     "text": [
      "                                                                \r"
     ]
    },
    {
     "name": "stdout",
     "output_type": "stream",
     "text": [
      "Moviepy - Done !\n",
      "Moviepy - video ready out/random_grid_53_0.9.mp4\n"
     ]
    },
    {
     "name": "stderr",
     "output_type": "stream",
     "text": [
      "t:   0%|          | 6/1200 [00:00<00:20, 59.58it/s, now=None]"
     ]
    },
    {
     "name": "stdout",
     "output_type": "stream",
     "text": [
      "Moviepy - Building video out/random_grid_21_0.9.mp4.\n",
      "Moviepy - Writing video out/random_grid_21_0.9.mp4\n",
      "\n"
     ]
    },
    {
     "name": "stderr",
     "output_type": "stream",
     "text": [
      "                                                                \r"
     ]
    },
    {
     "name": "stdout",
     "output_type": "stream",
     "text": [
      "Moviepy - Done !\n",
      "Moviepy - video ready out/random_grid_21_0.9.mp4\n"
     ]
    },
    {
     "name": "stderr",
     "output_type": "stream",
     "text": [
      "\r",
      "t:   0%|          | 0/1200 [00:00<?, ?it/s, now=None]"
     ]
    },
    {
     "name": "stdout",
     "output_type": "stream",
     "text": [
      "Moviepy - Building video out/random_grid_504_0.9.mp4.\n",
      "Moviepy - Writing video out/random_grid_504_0.9.mp4\n",
      "\n"
     ]
    },
    {
     "name": "stderr",
     "output_type": "stream",
     "text": [
      "                                                                \r"
     ]
    },
    {
     "name": "stdout",
     "output_type": "stream",
     "text": [
      "Moviepy - Done !\n",
      "Moviepy - video ready out/random_grid_504_0.9.mp4\n"
     ]
    },
    {
     "name": "stderr",
     "output_type": "stream",
     "text": [
      "t:   0%|          | 6/1200 [00:00<00:20, 59.03it/s, now=None]"
     ]
    },
    {
     "name": "stdout",
     "output_type": "stream",
     "text": [
      "Moviepy - Building video out/random_grid_2_0.9.mp4.\n",
      "Moviepy - Writing video out/random_grid_2_0.9.mp4\n",
      "\n"
     ]
    },
    {
     "name": "stderr",
     "output_type": "stream",
     "text": [
      "                                                                \r"
     ]
    },
    {
     "name": "stdout",
     "output_type": "stream",
     "text": [
      "Moviepy - Done !\n",
      "Moviepy - video ready out/random_grid_2_0.9.mp4\n"
     ]
    },
    {
     "name": "stderr",
     "output_type": "stream",
     "text": [
      "t:   0%|          | 6/1200 [00:00<00:20, 57.15it/s, now=None]"
     ]
    },
    {
     "name": "stdout",
     "output_type": "stream",
     "text": [
      "Moviepy - Building video out/random_grid_810_0.9.mp4.\n",
      "Moviepy - Writing video out/random_grid_810_0.9.mp4\n",
      "\n"
     ]
    },
    {
     "name": "stderr",
     "output_type": "stream",
     "text": [
      "                                                                \r"
     ]
    },
    {
     "name": "stdout",
     "output_type": "stream",
     "text": [
      "Moviepy - Done !\n",
      "Moviepy - video ready out/random_grid_810_0.9.mp4\n"
     ]
    },
    {
     "name": "stderr",
     "output_type": "stream",
     "text": [
      "t:   0%|          | 6/1200 [00:00<00:20, 57.49it/s, now=None]"
     ]
    },
    {
     "name": "stdout",
     "output_type": "stream",
     "text": [
      "Moviepy - Building video out/random_grid_339_0.9.mp4.\n",
      "Moviepy - Writing video out/random_grid_339_0.9.mp4\n",
      "\n"
     ]
    },
    {
     "name": "stderr",
     "output_type": "stream",
     "text": [
      "                                                                \r"
     ]
    },
    {
     "name": "stdout",
     "output_type": "stream",
     "text": [
      "Moviepy - Done !\n",
      "Moviepy - video ready out/random_grid_339_0.9.mp4\n"
     ]
    },
    {
     "name": "stderr",
     "output_type": "stream",
     "text": [
      "t:   0%|          | 6/1200 [00:00<00:20, 58.91it/s, now=None]"
     ]
    },
    {
     "name": "stdout",
     "output_type": "stream",
     "text": [
      "Moviepy - Building video out/random_grid_382_0.9.mp4.\n",
      "Moviepy - Writing video out/random_grid_382_0.9.mp4\n",
      "\n"
     ]
    },
    {
     "name": "stderr",
     "output_type": "stream",
     "text": [
      "                                                                \r"
     ]
    },
    {
     "name": "stdout",
     "output_type": "stream",
     "text": [
      "Moviepy - Done !\n",
      "Moviepy - video ready out/random_grid_382_0.9.mp4\n"
     ]
    },
    {
     "name": "stderr",
     "output_type": "stream",
     "text": [
      "\r",
      "t:   0%|          | 0/1200 [00:00<?, ?it/s, now=None]"
     ]
    },
    {
     "name": "stdout",
     "output_type": "stream",
     "text": [
      "Moviepy - Building video out/random_grid_383_0.9.mp4.\n",
      "Moviepy - Writing video out/random_grid_383_0.9.mp4\n",
      "\n"
     ]
    },
    {
     "name": "stderr",
     "output_type": "stream",
     "text": [
      "                                                                \r"
     ]
    },
    {
     "name": "stdout",
     "output_type": "stream",
     "text": [
      "Moviepy - Done !\n",
      "Moviepy - video ready out/random_grid_383_0.9.mp4\n"
     ]
    },
    {
     "name": "stderr",
     "output_type": "stream",
     "text": [
      "t:   0%|          | 6/1200 [00:00<00:20, 58.85it/s, now=None]"
     ]
    },
    {
     "name": "stdout",
     "output_type": "stream",
     "text": [
      "Moviepy - Building video out/random_grid_40_0.9.mp4.\n",
      "Moviepy - Writing video out/random_grid_40_0.9.mp4\n",
      "\n"
     ]
    },
    {
     "name": "stderr",
     "output_type": "stream",
     "text": [
      "                                                                \r"
     ]
    },
    {
     "name": "stdout",
     "output_type": "stream",
     "text": [
      "Moviepy - Done !\n",
      "Moviepy - video ready out/random_grid_40_0.9.mp4\n"
     ]
    },
    {
     "name": "stderr",
     "output_type": "stream",
     "text": [
      "t:   0%|          | 4/1200 [00:00<00:35, 33.78it/s, now=None]"
     ]
    },
    {
     "name": "stdout",
     "output_type": "stream",
     "text": [
      "Moviepy - Building video out/inter/interpolate_366_0.9.mp4.\n",
      "Moviepy - Writing video out/inter/interpolate_366_0.9.mp4\n",
      "\n"
     ]
    },
    {
     "name": "stderr",
     "output_type": "stream",
     "text": [
      "                                                                \r"
     ]
    },
    {
     "name": "stdout",
     "output_type": "stream",
     "text": [
      "Moviepy - Done !\n",
      "Moviepy - video ready out/inter/interpolate_366_0.9.mp4\n"
     ]
    },
    {
     "name": "stderr",
     "output_type": "stream",
     "text": [
      "t:   0%|          | 4/1200 [00:00<00:32, 36.46it/s, now=None]"
     ]
    },
    {
     "name": "stdout",
     "output_type": "stream",
     "text": [
      "Moviepy - Building video out/inter/interpolate_510_0.9.mp4.\n",
      "Moviepy - Writing video out/inter/interpolate_510_0.9.mp4\n",
      "\n"
     ]
    },
    {
     "name": "stderr",
     "output_type": "stream",
     "text": [
      "                                                                \r"
     ]
    },
    {
     "name": "stdout",
     "output_type": "stream",
     "text": [
      "Moviepy - Done !\n",
      "Moviepy - video ready out/inter/interpolate_510_0.9.mp4\n"
     ]
    },
    {
     "name": "stderr",
     "output_type": "stream",
     "text": [
      "t:   0%|          | 4/1200 [00:00<00:31, 37.74it/s, now=None]"
     ]
    },
    {
     "name": "stdout",
     "output_type": "stream",
     "text": [
      "Moviepy - Building video out/inter/interpolate_543_0.9.mp4.\n",
      "Moviepy - Writing video out/inter/interpolate_543_0.9.mp4\n",
      "\n"
     ]
    },
    {
     "name": "stderr",
     "output_type": "stream",
     "text": [
      "                                                                \r"
     ]
    },
    {
     "name": "stdout",
     "output_type": "stream",
     "text": [
      "Moviepy - Done !\n",
      "Moviepy - video ready out/inter/interpolate_543_0.9.mp4\n"
     ]
    },
    {
     "name": "stderr",
     "output_type": "stream",
     "text": [
      "t:   0%|          | 4/1200 [00:00<00:33, 35.37it/s, now=None]"
     ]
    },
    {
     "name": "stdout",
     "output_type": "stream",
     "text": [
      "Moviepy - Building video out/inter/interpolate_115_0.9.mp4.\n",
      "Moviepy - Writing video out/inter/interpolate_115_0.9.mp4\n",
      "\n"
     ]
    },
    {
     "name": "stderr",
     "output_type": "stream",
     "text": [
      "                                                                \r"
     ]
    },
    {
     "name": "stdout",
     "output_type": "stream",
     "text": [
      "Moviepy - Done !\n",
      "Moviepy - video ready out/inter/interpolate_115_0.9.mp4\n"
     ]
    },
    {
     "name": "stderr",
     "output_type": "stream",
     "text": [
      "t:   0%|          | 4/1200 [00:00<00:30, 39.86it/s, now=None]"
     ]
    },
    {
     "name": "stdout",
     "output_type": "stream",
     "text": [
      "Moviepy - Building video out/inter/interpolate_450_0.9.mp4.\n",
      "Moviepy - Writing video out/inter/interpolate_450_0.9.mp4\n",
      "\n"
     ]
    },
    {
     "name": "stderr",
     "output_type": "stream",
     "text": [
      "                                                                \r"
     ]
    },
    {
     "name": "stdout",
     "output_type": "stream",
     "text": [
      "Moviepy - Done !\n",
      "Moviepy - video ready out/inter/interpolate_450_0.9.mp4\n"
     ]
    },
    {
     "name": "stderr",
     "output_type": "stream",
     "text": [
      "\r",
      "t:   0%|          | 0/1200 [00:00<?, ?it/s, now=None]"
     ]
    },
    {
     "name": "stdout",
     "output_type": "stream",
     "text": [
      "Moviepy - Building video out/inter/interpolate_95_0.9.mp4.\n",
      "Moviepy - Writing video out/inter/interpolate_95_0.9.mp4\n",
      "\n"
     ]
    },
    {
     "name": "stderr",
     "output_type": "stream",
     "text": [
      "                                                                \r"
     ]
    },
    {
     "name": "stdout",
     "output_type": "stream",
     "text": [
      "Moviepy - Done !\n",
      "Moviepy - video ready out/inter/interpolate_95_0.9.mp4\n"
     ]
    },
    {
     "name": "stderr",
     "output_type": "stream",
     "text": [
      "t:   0%|          | 4/1200 [00:00<00:34, 34.30it/s, now=None]"
     ]
    },
    {
     "name": "stdout",
     "output_type": "stream",
     "text": [
      "Moviepy - Building video out/inter/interpolate_424_0.9.mp4.\n",
      "Moviepy - Writing video out/inter/interpolate_424_0.9.mp4\n",
      "\n"
     ]
    },
    {
     "name": "stderr",
     "output_type": "stream",
     "text": [
      "                                                                \r"
     ]
    },
    {
     "name": "stdout",
     "output_type": "stream",
     "text": [
      "Moviepy - Done !\n",
      "Moviepy - video ready out/inter/interpolate_424_0.9.mp4\n"
     ]
    },
    {
     "name": "stderr",
     "output_type": "stream",
     "text": [
      "t:   0%|          | 4/1200 [00:00<00:30, 38.94it/s, now=None]"
     ]
    },
    {
     "name": "stdout",
     "output_type": "stream",
     "text": [
      "Moviepy - Building video out/inter/interpolate_88_0.9.mp4.\n",
      "Moviepy - Writing video out/inter/interpolate_88_0.9.mp4\n",
      "\n"
     ]
    },
    {
     "name": "stderr",
     "output_type": "stream",
     "text": [
      "                                                                \r"
     ]
    },
    {
     "name": "stdout",
     "output_type": "stream",
     "text": [
      "Moviepy - Done !\n",
      "Moviepy - video ready out/inter/interpolate_88_0.9.mp4\n"
     ]
    },
    {
     "name": "stderr",
     "output_type": "stream",
     "text": [
      "t:   0%|          | 4/1200 [00:00<00:33, 36.11it/s, now=None]"
     ]
    },
    {
     "name": "stdout",
     "output_type": "stream",
     "text": [
      "Moviepy - Building video out/inter/interpolate_956_0.9.mp4.\n",
      "Moviepy - Writing video out/inter/interpolate_956_0.9.mp4\n",
      "\n"
     ]
    },
    {
     "name": "stderr",
     "output_type": "stream",
     "text": [
      "                                                                \r"
     ]
    },
    {
     "name": "stdout",
     "output_type": "stream",
     "text": [
      "Moviepy - Done !\n",
      "Moviepy - video ready out/inter/interpolate_956_0.9.mp4\n"
     ]
    },
    {
     "name": "stderr",
     "output_type": "stream",
     "text": [
      "t:   0%|          | 4/1200 [00:00<00:31, 37.63it/s, now=None]"
     ]
    },
    {
     "name": "stdout",
     "output_type": "stream",
     "text": [
      "Moviepy - Building video out/inter/interpolate_526_0.9.mp4.\n",
      "Moviepy - Writing video out/inter/interpolate_526_0.9.mp4\n",
      "\n"
     ]
    },
    {
     "name": "stderr",
     "output_type": "stream",
     "text": [
      "                                                                \r"
     ]
    },
    {
     "name": "stdout",
     "output_type": "stream",
     "text": [
      "Moviepy - Done !\n",
      "Moviepy - video ready out/inter/interpolate_526_0.9.mp4\n"
     ]
    },
    {
     "name": "stderr",
     "output_type": "stream",
     "text": [
      "t:   1%|          | 7/1200 [00:00<00:19, 60.50it/s, now=None]"
     ]
    },
    {
     "name": "stdout",
     "output_type": "stream",
     "text": [
      "Moviepy - Building video out/random_grid_605_1.2.mp4.\n",
      "Moviepy - Writing video out/random_grid_605_1.2.mp4\n",
      "\n"
     ]
    },
    {
     "name": "stderr",
     "output_type": "stream",
     "text": [
      "                                                                \r"
     ]
    },
    {
     "name": "stdout",
     "output_type": "stream",
     "text": [
      "Moviepy - Done !\n",
      "Moviepy - video ready out/random_grid_605_1.2.mp4\n"
     ]
    },
    {
     "name": "stderr",
     "output_type": "stream",
     "text": [
      "t:   1%|          | 7/1200 [00:00<00:19, 59.66it/s, now=None]"
     ]
    },
    {
     "name": "stdout",
     "output_type": "stream",
     "text": [
      "Moviepy - Building video out/random_grid_85_1.2.mp4.\n",
      "Moviepy - Writing video out/random_grid_85_1.2.mp4\n",
      "\n"
     ]
    },
    {
     "name": "stderr",
     "output_type": "stream",
     "text": [
      "                                                                \r"
     ]
    },
    {
     "name": "stdout",
     "output_type": "stream",
     "text": [
      "Moviepy - Done !\n",
      "Moviepy - video ready out/random_grid_85_1.2.mp4\n"
     ]
    },
    {
     "name": "stderr",
     "output_type": "stream",
     "text": [
      "t:   1%|          | 7/1200 [00:00<00:19, 60.07it/s, now=None]"
     ]
    },
    {
     "name": "stdout",
     "output_type": "stream",
     "text": [
      "Moviepy - Building video out/random_grid_946_1.2.mp4.\n",
      "Moviepy - Writing video out/random_grid_946_1.2.mp4\n",
      "\n"
     ]
    },
    {
     "name": "stderr",
     "output_type": "stream",
     "text": [
      "                                                                \r"
     ]
    },
    {
     "name": "stdout",
     "output_type": "stream",
     "text": [
      "Moviepy - Done !\n",
      "Moviepy - video ready out/random_grid_946_1.2.mp4\n"
     ]
    },
    {
     "name": "stderr",
     "output_type": "stream",
     "text": [
      "t:   1%|          | 7/1200 [00:00<00:19, 61.33it/s, now=None]"
     ]
    },
    {
     "name": "stdout",
     "output_type": "stream",
     "text": [
      "Moviepy - Building video out/random_grid_830_1.2.mp4.\n",
      "Moviepy - Writing video out/random_grid_830_1.2.mp4\n",
      "\n"
     ]
    },
    {
     "name": "stderr",
     "output_type": "stream",
     "text": [
      "                                                                \r"
     ]
    },
    {
     "name": "stdout",
     "output_type": "stream",
     "text": [
      "Moviepy - Done !\n",
      "Moviepy - video ready out/random_grid_830_1.2.mp4\n"
     ]
    },
    {
     "name": "stderr",
     "output_type": "stream",
     "text": [
      "\r",
      "t:   0%|          | 0/1200 [00:00<?, ?it/s, now=None]"
     ]
    },
    {
     "name": "stdout",
     "output_type": "stream",
     "text": [
      "Moviepy - Building video out/random_grid_813_1.2.mp4.\n",
      "Moviepy - Writing video out/random_grid_813_1.2.mp4\n",
      "\n"
     ]
    },
    {
     "name": "stderr",
     "output_type": "stream",
     "text": [
      "                                                                \r"
     ]
    },
    {
     "name": "stdout",
     "output_type": "stream",
     "text": [
      "Moviepy - Done !\n",
      "Moviepy - video ready out/random_grid_813_1.2.mp4\n"
     ]
    },
    {
     "name": "stderr",
     "output_type": "stream",
     "text": [
      "t:   1%|          | 7/1200 [00:00<00:19, 61.36it/s, now=None]"
     ]
    },
    {
     "name": "stdout",
     "output_type": "stream",
     "text": [
      "Moviepy - Building video out/random_grid_150_1.2.mp4.\n",
      "Moviepy - Writing video out/random_grid_150_1.2.mp4\n",
      "\n"
     ]
    },
    {
     "name": "stderr",
     "output_type": "stream",
     "text": [
      "                                                                \r"
     ]
    },
    {
     "name": "stdout",
     "output_type": "stream",
     "text": [
      "Moviepy - Done !\n",
      "Moviepy - video ready out/random_grid_150_1.2.mp4\n"
     ]
    },
    {
     "name": "stderr",
     "output_type": "stream",
     "text": [
      "t:   0%|          | 6/1200 [00:00<00:21, 56.20it/s, now=None]"
     ]
    },
    {
     "name": "stdout",
     "output_type": "stream",
     "text": [
      "Moviepy - Building video out/random_grid_806_1.2.mp4.\n",
      "Moviepy - Writing video out/random_grid_806_1.2.mp4\n",
      "\n"
     ]
    },
    {
     "name": "stderr",
     "output_type": "stream",
     "text": [
      "                                                                \r"
     ]
    },
    {
     "name": "stdout",
     "output_type": "stream",
     "text": [
      "Moviepy - Done !\n",
      "Moviepy - video ready out/random_grid_806_1.2.mp4\n"
     ]
    },
    {
     "name": "stderr",
     "output_type": "stream",
     "text": [
      "t:   1%|          | 7/1200 [00:00<00:19, 62.52it/s, now=None]"
     ]
    },
    {
     "name": "stdout",
     "output_type": "stream",
     "text": [
      "Moviepy - Building video out/random_grid_312_1.2.mp4.\n",
      "Moviepy - Writing video out/random_grid_312_1.2.mp4\n",
      "\n"
     ]
    },
    {
     "name": "stderr",
     "output_type": "stream",
     "text": [
      "                                                                \r"
     ]
    },
    {
     "name": "stdout",
     "output_type": "stream",
     "text": [
      "Moviepy - Done !\n",
      "Moviepy - video ready out/random_grid_312_1.2.mp4\n"
     ]
    },
    {
     "name": "stderr",
     "output_type": "stream",
     "text": [
      "t:   1%|          | 7/1200 [00:00<00:19, 60.38it/s, now=None]"
     ]
    },
    {
     "name": "stdout",
     "output_type": "stream",
     "text": [
      "Moviepy - Building video out/random_grid_604_1.2.mp4.\n",
      "Moviepy - Writing video out/random_grid_604_1.2.mp4\n",
      "\n"
     ]
    },
    {
     "name": "stderr",
     "output_type": "stream",
     "text": [
      "                                                                \r"
     ]
    },
    {
     "name": "stdout",
     "output_type": "stream",
     "text": [
      "Moviepy - Done !\n",
      "Moviepy - video ready out/random_grid_604_1.2.mp4\n"
     ]
    },
    {
     "name": "stderr",
     "output_type": "stream",
     "text": [
      "t:   1%|          | 7/1200 [00:00<00:20, 59.22it/s, now=None]"
     ]
    },
    {
     "name": "stdout",
     "output_type": "stream",
     "text": [
      "Moviepy - Building video out/random_grid_320_1.2.mp4.\n",
      "Moviepy - Writing video out/random_grid_320_1.2.mp4\n",
      "\n"
     ]
    },
    {
     "name": "stderr",
     "output_type": "stream",
     "text": [
      "                                                                \r"
     ]
    },
    {
     "name": "stdout",
     "output_type": "stream",
     "text": [
      "Moviepy - Done !\n",
      "Moviepy - video ready out/random_grid_320_1.2.mp4\n"
     ]
    },
    {
     "name": "stderr",
     "output_type": "stream",
     "text": [
      "t:   0%|          | 4/1200 [00:00<00:30, 38.71it/s, now=None]"
     ]
    },
    {
     "name": "stdout",
     "output_type": "stream",
     "text": [
      "Moviepy - Building video out/inter/interpolate_183_1.2.mp4.\n",
      "Moviepy - Writing video out/inter/interpolate_183_1.2.mp4\n",
      "\n"
     ]
    },
    {
     "name": "stderr",
     "output_type": "stream",
     "text": [
      "                                                                \r"
     ]
    },
    {
     "name": "stdout",
     "output_type": "stream",
     "text": [
      "Moviepy - Done !\n",
      "Moviepy - video ready out/inter/interpolate_183_1.2.mp4\n"
     ]
    },
    {
     "name": "stderr",
     "output_type": "stream",
     "text": [
      "\r",
      "t:   0%|          | 0/1200 [00:00<?, ?it/s, now=None]"
     ]
    },
    {
     "name": "stdout",
     "output_type": "stream",
     "text": [
      "Moviepy - Building video out/inter/interpolate_969_1.2.mp4.\n",
      "Moviepy - Writing video out/inter/interpolate_969_1.2.mp4\n",
      "\n"
     ]
    },
    {
     "name": "stderr",
     "output_type": "stream",
     "text": [
      "                                                                \r"
     ]
    },
    {
     "name": "stdout",
     "output_type": "stream",
     "text": [
      "Moviepy - Done !\n",
      "Moviepy - video ready out/inter/interpolate_969_1.2.mp4\n"
     ]
    },
    {
     "name": "stderr",
     "output_type": "stream",
     "text": [
      "t:   0%|          | 4/1200 [00:00<00:30, 39.82it/s, now=None]"
     ]
    },
    {
     "name": "stdout",
     "output_type": "stream",
     "text": [
      "Moviepy - Building video out/inter/interpolate_607_1.2.mp4.\n",
      "Moviepy - Writing video out/inter/interpolate_607_1.2.mp4\n",
      "\n"
     ]
    },
    {
     "name": "stderr",
     "output_type": "stream",
     "text": [
      "                                                                \r"
     ]
    },
    {
     "name": "stdout",
     "output_type": "stream",
     "text": [
      "Moviepy - Done !\n",
      "Moviepy - video ready out/inter/interpolate_607_1.2.mp4\n"
     ]
    },
    {
     "name": "stderr",
     "output_type": "stream",
     "text": [
      "t:   0%|          | 4/1200 [00:00<00:29, 39.92it/s, now=None]"
     ]
    },
    {
     "name": "stdout",
     "output_type": "stream",
     "text": [
      "Moviepy - Building video out/inter/interpolate_532_1.2.mp4.\n",
      "Moviepy - Writing video out/inter/interpolate_532_1.2.mp4\n",
      "\n"
     ]
    },
    {
     "name": "stderr",
     "output_type": "stream",
     "text": [
      "                                                                \r"
     ]
    },
    {
     "name": "stdout",
     "output_type": "stream",
     "text": [
      "Moviepy - Done !\n",
      "Moviepy - video ready out/inter/interpolate_532_1.2.mp4\n"
     ]
    },
    {
     "name": "stderr",
     "output_type": "stream",
     "text": [
      "t:   0%|          | 4/1200 [00:00<00:30, 39.09it/s, now=None]"
     ]
    },
    {
     "name": "stdout",
     "output_type": "stream",
     "text": [
      "Moviepy - Building video out/inter/interpolate_791_1.2.mp4.\n",
      "Moviepy - Writing video out/inter/interpolate_791_1.2.mp4\n",
      "\n"
     ]
    },
    {
     "name": "stderr",
     "output_type": "stream",
     "text": [
      "                                                                \r"
     ]
    },
    {
     "name": "stdout",
     "output_type": "stream",
     "text": [
      "Moviepy - Done !\n",
      "Moviepy - video ready out/inter/interpolate_791_1.2.mp4\n"
     ]
    },
    {
     "name": "stderr",
     "output_type": "stream",
     "text": [
      "\r",
      "t:   0%|          | 0/1200 [00:00<?, ?it/s, now=None]"
     ]
    },
    {
     "name": "stdout",
     "output_type": "stream",
     "text": [
      "Moviepy - Building video out/inter/interpolate_732_1.2.mp4.\n",
      "Moviepy - Writing video out/inter/interpolate_732_1.2.mp4\n",
      "\n"
     ]
    },
    {
     "name": "stderr",
     "output_type": "stream",
     "text": [
      "                                                                \r"
     ]
    },
    {
     "name": "stdout",
     "output_type": "stream",
     "text": [
      "Moviepy - Done !\n",
      "Moviepy - video ready out/inter/interpolate_732_1.2.mp4\n"
     ]
    },
    {
     "name": "stderr",
     "output_type": "stream",
     "text": [
      "t:   0%|          | 4/1200 [00:00<00:31, 38.45it/s, now=None]"
     ]
    },
    {
     "name": "stdout",
     "output_type": "stream",
     "text": [
      "Moviepy - Building video out/inter/interpolate_812_1.2.mp4.\n",
      "Moviepy - Writing video out/inter/interpolate_812_1.2.mp4\n",
      "\n"
     ]
    },
    {
     "name": "stderr",
     "output_type": "stream",
     "text": [
      "                                                                \r"
     ]
    },
    {
     "name": "stdout",
     "output_type": "stream",
     "text": [
      "Moviepy - Done !\n",
      "Moviepy - video ready out/inter/interpolate_812_1.2.mp4\n"
     ]
    },
    {
     "name": "stderr",
     "output_type": "stream",
     "text": [
      "t:   0%|          | 4/1200 [00:00<00:30, 38.68it/s, now=None]"
     ]
    },
    {
     "name": "stdout",
     "output_type": "stream",
     "text": [
      "Moviepy - Building video out/inter/interpolate_234_1.2.mp4.\n",
      "Moviepy - Writing video out/inter/interpolate_234_1.2.mp4\n",
      "\n"
     ]
    },
    {
     "name": "stderr",
     "output_type": "stream",
     "text": [
      "                                                                \r"
     ]
    },
    {
     "name": "stdout",
     "output_type": "stream",
     "text": [
      "Moviepy - Done !\n",
      "Moviepy - video ready out/inter/interpolate_234_1.2.mp4\n"
     ]
    },
    {
     "name": "stderr",
     "output_type": "stream",
     "text": [
      "t:   0%|          | 4/1200 [00:00<00:32, 36.53it/s, now=None]"
     ]
    },
    {
     "name": "stdout",
     "output_type": "stream",
     "text": [
      "Moviepy - Building video out/inter/interpolate_726_1.2.mp4.\n",
      "Moviepy - Writing video out/inter/interpolate_726_1.2.mp4\n",
      "\n"
     ]
    },
    {
     "name": "stderr",
     "output_type": "stream",
     "text": [
      "                                                                \r"
     ]
    },
    {
     "name": "stdout",
     "output_type": "stream",
     "text": [
      "Moviepy - Done !\n",
      "Moviepy - video ready out/inter/interpolate_726_1.2.mp4\n"
     ]
    },
    {
     "name": "stderr",
     "output_type": "stream",
     "text": [
      "\r",
      "t:   0%|          | 0/1200 [00:00<?, ?it/s, now=None]"
     ]
    },
    {
     "name": "stdout",
     "output_type": "stream",
     "text": [
      "Moviepy - Building video out/inter/interpolate_940_1.2.mp4.\n",
      "Moviepy - Writing video out/inter/interpolate_940_1.2.mp4\n",
      "\n"
     ]
    },
    {
     "name": "stderr",
     "output_type": "stream",
     "text": [
      "                                                                \r"
     ]
    },
    {
     "name": "stdout",
     "output_type": "stream",
     "text": [
      "Moviepy - Done !\n",
      "Moviepy - video ready out/inter/interpolate_940_1.2.mp4\n"
     ]
    }
   ],
   "source": [
    "# based on code from https://www.gwern.net/Faces\n",
    "\n",
    "import os\n",
    "import pickle\n",
    "import numpy as np\n",
    "import PIL.Image\n",
    "import dnnlib\n",
    "import dnnlib.tflib as tflib\n",
    "#import config\n",
    "import scipy\n",
    "\n",
    "def main():\n",
    "    #seeds= [69, 420, 6969, 42069, 42, 404]\n",
    "    \n",
    "\n",
    "    tflib.init_tf()\n",
    "\n",
    "        # Load pre-trained network.\n",
    "        # url = 'https://drive.google.com/uc?id=1MEGjdvVpUsu1jB4zrXZN7Y4kBBOzizDQ'\n",
    "        # with dnnlib.util.open_url(url, cache_dir=config.cache_dir) as f:\n",
    "        ## NOTE: insert model here:\n",
    "    _G, _D, Gs = pickle.load(open(\"./training-runs/00004-female_tfr-paper256-kimg10000-resumecustom/network-snapshot-010000.pkl\", \"rb\"))\n",
    "        # _G = Instantaneous snapshot of the generator. Mainly useful for resuming a previous training run.\n",
    "        # _D = Instantaneous snapshot of the discriminator. Mainly useful for resuming a previous training run.\n",
    "        # Gs = Long-term average of the generator. Yields higher-quality results than the instantaneous snapshot.\n",
    "    def random_grid(seed, trunc):\n",
    "        grid_size = [2,2]\n",
    "        image_shrink = 1\n",
    "        image_zoom = 1\n",
    "        duration_sec = 60.0\n",
    "        smoothing_sec = 1.0\n",
    "        mp4_fps = 20\n",
    "        mp4_codec = 'libx264'\n",
    "        mp4_bitrate = '5M'\n",
    "        random_seed = seed\n",
    "        mp4_file = f'out/random_grid_{i}_{trunc}.mp4'\n",
    "        minibatch_size = 16\n",
    "\n",
    "        num_frames = int(np.rint(duration_sec * mp4_fps))\n",
    "        random_state = np.random.RandomState(random_seed)\n",
    "\n",
    "        # Generate latent vectors\n",
    "        shape = [num_frames, np.prod(grid_size)] + Gs.input_shape[1:] # [frame, image, channel, component]\n",
    "        all_latents = random_state.randn(*shape).astype(np.float32)\n",
    "        import scipy\n",
    "        all_latents = scipy.ndimage.gaussian_filter(all_latents,\n",
    "                       [smoothing_sec * mp4_fps] + [0] * len(Gs.input_shape), mode='wrap')\n",
    "        all_latents /= np.sqrt(np.mean(np.square(all_latents)))\n",
    "\n",
    "\n",
    "        def create_image_grid(images, grid_size=None):\n",
    "            assert images.ndim == 3 or images.ndim == 4\n",
    "            num, img_h, img_w, channels = images.shape\n",
    "\n",
    "            if grid_size is not None:\n",
    "                grid_w, grid_h = tuple(grid_size)\n",
    "            else:\n",
    "                grid_w = max(int(np.ceil(np.sqrt(num))), 1)\n",
    "                grid_h = max((num - 1) // grid_w + 1, 1)\n",
    "\n",
    "            grid = np.zeros([grid_h * img_h, grid_w * img_w, channels], dtype=images.dtype)\n",
    "            for idx in range(num):\n",
    "                x = (idx % grid_w) * img_w\n",
    "                y = (idx // grid_w) * img_h\n",
    "                grid[y : y + img_h, x : x + img_w] = images[idx]\n",
    "            return grid\n",
    "\n",
    "        # Frame generation func for moviepy.\n",
    "        def make_frame(t):\n",
    "            frame_idx = int(np.clip(np.round(t * mp4_fps), 0, num_frames - 1))\n",
    "            latents = all_latents[frame_idx]\n",
    "            fmt = dict(func=tflib.convert_images_to_uint8, nchw_to_nhwc=True)\n",
    "            images = Gs.run(latents, None, truncation_psi=trunc,\n",
    "                                  randomize_noise=False, output_transform=fmt)\n",
    "\n",
    "            grid = create_image_grid(images, grid_size)\n",
    "            if image_zoom > 1:\n",
    "                grid = scipy.ndimage.zoom(grid, [image_zoom, image_zoom, 1], order=0)\n",
    "            if grid.shape[2] == 1:\n",
    "                grid = grid.repeat(3, 2) # grayscale => RGB\n",
    "            return grid\n",
    "\n",
    "        # Generate video.\n",
    "        import moviepy.editor\n",
    "        video_clip = moviepy.editor.VideoClip(make_frame, duration=duration_sec)\n",
    "        video_clip.write_videofile(mp4_file, fps=mp4_fps, codec=mp4_codec, bitrate=mp4_bitrate)\n",
    "\n",
    "    def inter(seed, trunc):\n",
    "        import scipy\n",
    "        #coarse\n",
    "        duration_sec = 60.0\n",
    "        smoothing_sec = 1.0\n",
    "        mp4_fps = 20\n",
    "\n",
    "        num_frames = int(np.rint(duration_sec * mp4_fps))\n",
    "        random_seed = seed\n",
    "        random_state = np.random.RandomState(random_seed)\n",
    "\n",
    "\n",
    "        w = 256\n",
    "        h = 256\n",
    "        #src_seeds = [601]\n",
    "        dst_seeds = np.random.randint(1000, size=3)\n",
    "        style_ranges = ([0] * 7 + [range(8,16)]) * len(dst_seeds)\n",
    "\n",
    "        fmt = dict(func=tflib.convert_images_to_uint8, nchw_to_nhwc=True)\n",
    "        synthesis_kwargs = dict(output_transform=fmt, truncation_psi=trunc, minibatch_size=16)\n",
    "\n",
    "        shape = [num_frames] + Gs.input_shape[1:] # [frame, image, channel, component]\n",
    "        src_latents = random_state.randn(*shape).astype(np.float32)\n",
    "        src_latents = scipy.ndimage.gaussian_filter(src_latents,\n",
    "                                                    smoothing_sec * mp4_fps,\n",
    "                                                    mode='wrap')\n",
    "        src_latents /= np.sqrt(np.mean(np.square(src_latents)))\n",
    "\n",
    "        dst_latents = np.stack(np.random.RandomState(seed).randn(Gs.input_shape[1]) for seed in dst_seeds)\n",
    "\n",
    "\n",
    "        src_dlatents = Gs.components.mapping.run(src_latents, None) # [seed, layer, component]\n",
    "        dst_dlatents = Gs.components.mapping.run(dst_latents, None) # [seed, layer, component]\n",
    "        src_images = Gs.components.synthesis.run(src_dlatents, randomize_noise=False, **synthesis_kwargs)\n",
    "        dst_images = Gs.components.synthesis.run(dst_dlatents, randomize_noise=False, **synthesis_kwargs)\n",
    "\n",
    "\n",
    "        canvas = PIL.Image.new('RGB', (w * (len(dst_seeds) + 1), h * 2), 'white')\n",
    "\n",
    "        for col, dst_image in enumerate(list(dst_images)):\n",
    "            canvas.paste(PIL.Image.fromarray(dst_image, 'RGB'), ((col + 1) * h, 0))\n",
    "\n",
    "        def make_frame(t):\n",
    "            frame_idx = int(np.clip(np.round(t * mp4_fps), 0, num_frames - 1))\n",
    "            src_image = src_images[frame_idx]\n",
    "            canvas.paste(PIL.Image.fromarray(src_image, 'RGB'), (0, h))\n",
    "\n",
    "            for col, dst_image in enumerate(list(dst_images)):\n",
    "                col_dlatents = np.stack([dst_dlatents[col]])\n",
    "                col_dlatents[:, style_ranges[col]] = src_dlatents[frame_idx, style_ranges[col]]\n",
    "                col_images = Gs.components.synthesis.run(col_dlatents, randomize_noise=False, **synthesis_kwargs)\n",
    "                for row, image in enumerate(list(col_images)):\n",
    "                    canvas.paste(PIL.Image.fromarray(image, 'RGB'), ((col + 1) * h, (row + 1) * w))\n",
    "            return np.array(canvas)\n",
    "\n",
    "        # Generate video.\n",
    "        import moviepy.editor\n",
    "        mp4_file = f'out/inter/interpolate_{i}_{trunc}.mp4'\n",
    "        mp4_codec = 'libx264'\n",
    "        mp4_bitrate = '5M'\n",
    "\n",
    "        video_clip = moviepy.editor.VideoClip(make_frame, duration=duration_sec)\n",
    "        video_clip.write_videofile(mp4_file, fps=mp4_fps, codec=mp4_codec, bitrate=mp4_bitrate)\n",
    "\n",
    "\n",
    "    def fine(seed, trunc):\n",
    "        import scipy\n",
    "\n",
    "        duration_sec = 60.0\n",
    "        smoothing_sec = 1.0\n",
    "        mp4_fps = 20\n",
    "\n",
    "        num_frames = int(np.rint(duration_sec * mp4_fps))\n",
    "        random_seed = seed\n",
    "        random_state = np.random.RandomState(random_seed)\n",
    "\n",
    "\n",
    "        w = 256\n",
    "        h = 256\n",
    "        style_ranges = [i for i in range(6,16)]\n",
    "\n",
    "        fmt = dict(func=tflib.convert_images_to_uint8, nchw_to_nhwc=True)\n",
    "        synthesis_kwargs = dict(output_transform=fmt, truncation_psi=trunc, minibatch_size=8)\n",
    "\n",
    "        shape = [num_frames] + Gs.input_shape[1:] # [frame, image, channel, component]\n",
    "        src_latents = random_state.randn(*shape).astype(np.float32)\n",
    "        src_latents = scipy.ndimage.gaussian_filter(src_latents,\n",
    "                                                    smoothing_sec * mp4_fps,\n",
    "                                                    mode='wrap')\n",
    "        src_latents /= np.sqrt(np.mean(np.square(src_latents)))\n",
    "\n",
    "        dst_latents = np.stack([random_state.randn(Gs.input_shape[1])])\n",
    "\n",
    "\n",
    "        src_dlatents = Gs.components.mapping.run(src_latents, None) # [seed, layer, component]\n",
    "        dst_dlatents = Gs.components.mapping.run(dst_latents, None) # [seed, layer, component]\n",
    "\n",
    "\n",
    "        def make_frame(t):\n",
    "            frame_idx = int(np.clip(np.round(t * mp4_fps), 0, num_frames - 1))\n",
    "            col_dlatents = np.stack([dst_dlatents[0]])\n",
    "            col_dlatents[:, style_ranges[0]] = src_dlatents[frame_idx, style_ranges[0]]\n",
    "            col_images = Gs.components.synthesis.run(col_dlatents, randomize_noise=False, **synthesis_kwargs)\n",
    "            return col_images[0]\n",
    "\n",
    "        # Generate video.\n",
    "        import moviepy.editor\n",
    "        mp4_file = f'out/fine_{trunc}_{random_seed}.mp4'\n",
    "        mp4_codec = 'libx264'\n",
    "        mp4_bitrate = '5M'\n",
    "\n",
    "        video_clip = moviepy.editor.VideoClip(make_frame, duration=duration_sec)\n",
    "        video_clip.write_videofile(mp4_file, fps=mp4_fps, codec=mp4_codec, bitrate=mp4_bitrate)\n",
    "  \n",
    "    for t in [0.9, 1.2]:\n",
    "             \n",
    "        seeds = np.random.randint(1000, size=10) \n",
    "        for i in seeds:\n",
    "            random_grid(i,t)\n",
    "              \n",
    "        seeds = np.random.randint(1000, size=10)\n",
    "        for i in seeds:\n",
    "            inter(i,t)\n",
    "\n",
    "if __name__ == \"__main__\":\n",
    "        main()"
   ]
  },
  {
   "cell_type": "code",
   "execution_count": 1,
   "metadata": {},
   "outputs": [
    {
     "name": "stdout",
     "output_type": "stream",
     "text": [
      "memory.free [MiB]\r\n",
      "9323 MiB\r\n"
     ]
    }
   ],
   "source": [
    "!nvidia-smi --query-gpu=memory.free --format=csv"
   ]
  },
  {
   "cell_type": "code",
   "execution_count": null,
   "metadata": {},
   "outputs": [],
   "source": []
  }
 ],
 "metadata": {
  "kernelspec": {
   "display_name": "Python 3",
   "language": "python",
   "name": "python3"
  },
  "language_info": {
   "codemirror_mode": {
    "name": "ipython",
    "version": 3
   },
   "file_extension": ".py",
   "mimetype": "text/x-python",
   "name": "python",
   "nbconvert_exporter": "python",
   "pygments_lexer": "ipython3",
   "version": "3.8.3"
  }
 },
 "nbformat": 4,
 "nbformat_minor": 4
}
